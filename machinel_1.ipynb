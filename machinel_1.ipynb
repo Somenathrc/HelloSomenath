{
  "nbformat": 4,
  "nbformat_minor": 0,
  "metadata": {
    "colab": {
      "name": "machinel_1.ipynb",
      "provenance": [],
      "private_outputs": true,
      "include_colab_link": true
    },
    "kernelspec": {
      "name": "python3",
      "display_name": "Python 3"
    }
  },
  "cells": [
    {
      "cell_type": "markdown",
      "metadata": {
        "id": "view-in-github",
        "colab_type": "text"
      },
      "source": [
        "<a href=\"https://colab.research.google.com/github/Somenathrc/HelloSomenath/blob/master/machinel_1.ipynb\" target=\"_parent\"><img src=\"https://colab.research.google.com/assets/colab-badge.svg\" alt=\"Open In Colab\"/></a>"
      ]
    },
    {
      "cell_type": "code",
      "metadata": {
        "id": "wJzS-_LtZpEm",
        "colab_type": "code",
        "colab": {}
      },
      "source": [
        ""
      ],
      "execution_count": 0,
      "outputs": []
    },
    {
      "cell_type": "code",
      "metadata": {
        "id": "Ph3XjnhnZpr-",
        "colab_type": "code",
        "colab": {}
      },
      "source": [
        "# Check the versions of libraries\n",
        "\n",
        "# Python version\n",
        "# machinel_1.py\n",
        "import sys\n",
        "print('Python ver: {}'.format(sys.version))\n",
        " \n",
        "# importing the threading module \n",
        "import threading\n",
        " \n",
        "#for os.getpid() call\n",
        "import os \n",
        " \n",
        "#to simulate some idle time with a time.sleep() function.\n",
        " \n",
        "import time\n",
        "\n",
        " \n",
        "# scipy\n",
        "import scipy\n",
        "print('scipy ver: {}'.format(scipy.__version__))\n",
        "# numpy\n",
        "import numpy\n",
        "print('numpy ver: {}'.format(numpy.__version__))\n",
        "# matplotlib\n",
        "import matplotlib\n",
        "print('matplotlib ver: {}'.format(matplotlib.__version__))\n",
        "\n",
        " \n",
        "# Load libraries\n",
        "import pandas\n",
        "from pandas.plotting import scatter_matrix\n",
        "import matplotlib.pyplot as plt\n",
        "from sklearn import model_selection\n",
        "from sklearn.metrics import classification_report\n",
        "from sklearn.metrics import confusion_matrix\n",
        "from sklearn.metrics import accuracy_score\n",
        "from sklearn.linear_model import LogisticRegression\n",
        "from sklearn.tree import DecisionTreeClassifier\n",
        "from sklearn.neighbors import KNeighborsClassifier\n",
        "from sklearn.discriminant_analysis import LinearDiscriminantAnalysis\n",
        "from sklearn.naive_bayes import GaussianNB\n",
        "from sklearn.svm import SVC\n",
        "\n",
        "# pandas\n",
        "import pandas\n",
        "print('pandas ver: {}'.format(pandas.__version__))\n",
        "# scikit-learn\n",
        "import sklearn\n",
        "print('sklearn ver: {}'.format(sklearn.__version__))\n",
        "\n",
        "if __name__ == \"__main__\": \n",
        "    start = time.time() #getting starting time\n",
        "    print('Machine learning setup program 1 ...\\n')\n",
        " \n",
        "# print ID of current process\n",
        "# We use os.getpid() function to get ID of current process.\n",
        "    print(\"ID of process running main program: {}\".format(os.getpid()))\n",
        "  \n",
        "# print name of main thread\n",
        "    print(\"Main thread name: {}\".format(threading.main_thread().name))\n",
        "  \n",
        "\n",
        "    print(\"Done!\")\n",
        "    print('Entire job took:',time.time() - start)"
      ],
      "execution_count": 0,
      "outputs": []
    }
  ]
}